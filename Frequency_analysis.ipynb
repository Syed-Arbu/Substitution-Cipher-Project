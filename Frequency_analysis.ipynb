{
  "nbformat": 4,
  "nbformat_minor": 0,
  "metadata": {
    "colab": {
      "provenance": []
    },
    "kernelspec": {
      "name": "python3",
      "display_name": "Python 3"
    },
    "language_info": {
      "name": "python"
    }
  },
  "cells": [
    {
      "cell_type": "code",
      "source": [
        "# === Substitution Cipher Encryptor (Google Colab Ready) ===\n",
        "# Paste this entire cell into Colab and run.\n",
        "\n",
        "import string, random\n",
        "\n",
        "# Fixed key (A→cipher)\n",
        "FIXED_KEY = \"QWERTYUIOPASDFGHJKLZXCVBNM\"\n",
        "ALPHABET = string.ascii_uppercase\n",
        "\n",
        "def encrypt_text(plaintext, key):\n",
        "    mapping = str.maketrans(ALPHABET, key)\n",
        "    ciphertext = plaintext.upper().translate(mapping)\n",
        "    return ciphertext\n",
        "\n",
        "def generate_random_key():\n",
        "    letters = list(ALPHABET)\n",
        "    random.shuffle(letters)\n",
        "    return ''.join(letters)\n",
        "\n",
        "print(\"=== SUBSTITUTION CIPHER ENCRYPTOR ===\")\n",
        "plain = input(\"Enter your plain text: \")\n",
        "\n",
        "choice = input(\"Use fixed key (F) or random key (R)? \").strip().upper()\n",
        "if choice == \"R\":\n",
        "    key = generate_random_key()\n",
        "    print(\"\\n🔑 Random Key Used:\", key)\n",
        "else:\n",
        "    key = FIXED_KEY\n",
        "    print(\"\\n🔑 Fixed Key Used:\", key)\n",
        "\n",
        "cipher = encrypt_text(plain, key)\n",
        "print(\"\\n✅ Cipher Text:\\n\", cipher)\n",
        "print(\"\\n📋 Save this key if you want to decrypt later!\")\n"
      ],
      "metadata": {
        "colab": {
          "base_uri": "https://localhost:8080/"
        },
        "id": "a5GBmGEXsV5l",
        "outputId": "54fa7835-a40d-44d2-f90c-ea8099922830"
      },
      "execution_count": 18,
      "outputs": [
        {
          "output_type": "stream",
          "name": "stdout",
          "text": [
            "=== SUBSTITUTION CIPHER ENCRYPTOR ===\n",
            "Enter your plain text: hello guys this is my new project checkout in github\n",
            "Use fixed key (F) or random key (R)? r\n",
            "\n",
            "🔑 Random Key Used: SYCPTVQZAFBJKHLGWIXNUEMORD\n",
            "\n",
            "✅ Cipher Text:\n",
            " ZTJJL QURX NZAX AX KR HTM GILFTCN CZTCBLUN AH QANZUY\n",
            "\n",
            "📋 Save this key if you want to decrypt later!\n"
          ]
        }
      ]
    },
    {
      "cell_type": "code",
      "source": [
        "# ==========================================================\n",
        "# 💡 Substitution Cipher - Perfect Encryption & Decryption\n",
        "# Works 100% accurately (no guessing, key-based)\n",
        "# ==========================================================\n",
        "\n",
        "import string\n",
        "import random\n",
        "\n",
        "ALPHABET = string.ascii_uppercase\n",
        "\n",
        "# ---------------------- GENERATE RANDOM KEY ----------------------\n",
        "def generate_key():\n",
        "    letters = list(ALPHABET)\n",
        "    random.shuffle(letters)\n",
        "    key = ''.join(letters)\n",
        "    return key\n",
        "\n",
        "# ---------------------- ENCRYPT FUNCTION -------------------------\n",
        "def encrypt(plaintext, key):\n",
        "    table = str.maketrans(ALPHABET, key)\n",
        "    ciphertext = plaintext.upper().translate(table)\n",
        "    return ciphertext\n",
        "\n",
        "# ---------------------- DECRYPT FUNCTION -------------------------\n",
        "def decrypt(ciphertext, key):\n",
        "    table = str.maketrans(key, ALPHABET)\n",
        "    plaintext = ciphertext.upper().translate(table)\n",
        "    return plaintext\n",
        "\n",
        "# ---------------------- MAIN DRIVER ------------------------------\n",
        "if __name__ == \"__main__\":\n",
        "    print(\"=== Substitution Cipher (Accurate Version) ===\")\n",
        "    mode = input(\"Choose mode: [E]ncrypt / [D]ecrypt: \").strip().upper()\n",
        "\n",
        "    if mode == \"E\":\n",
        "        text = input(\"Enter your plaintext: \")\n",
        "        key = generate_key()\n",
        "        cipher = encrypt(text, key)\n",
        "        print(\"\\n✅ Encrypted Ciphertext:\\n\", cipher)\n",
        "        print(\"\\n🔑 Save this key to decrypt later:\\n\", key)\n",
        "\n",
        "    elif mode == \"D\":\n",
        "        cipher = input(\"Enter your ciphertext: \")\n",
        "        key = input(\"Enter the key used during encryption: \")\n",
        "        plain = decrypt(cipher, key)\n",
        "        print(\"\\n✅ Decrypted Plaintext:\\n\", plain)\n",
        "    else:\n",
        "        print(\"Invalid option. Please enter E or D.\")\n",
        "\n",
        "\n"
      ],
      "metadata": {
        "colab": {
          "base_uri": "https://localhost:8080/"
        },
        "id": "bU4d3FPHpMkF",
        "outputId": "12a8031e-bc9f-41b8-cf83-887586d28a11"
      },
      "execution_count": 20,
      "outputs": [
        {
          "output_type": "stream",
          "name": "stdout",
          "text": [
            "=== Substitution Cipher (Accurate Version) ===\n",
            "Choose mode: [E]ncrypt / [D]ecrypt: d\n",
            "Enter your ciphertext: ZTJJL QURX NZAX AX KR HTM GILFTCN CZTCBLUN AH QANZUY\n",
            "Enter the key used during encryption: SYCPTVQZAFBJKHLGWIXNUEMORD\n",
            "\n",
            "✅ Decrypted Plaintext:\n",
            " HELLO GUYS THIS IS MY NEW PROJECT CHECKOUT IN GITHUB\n"
          ]
        }
      ]
    }
  ]
}